{
 "cells": [
  {
   "cell_type": "code",
   "execution_count": null,
   "metadata": {
    "id": "t7Pi935c5t-f"
   },
   "outputs": [],
   "source": [
    "!pip install raster laspy[laszip] lazrs"
   ]
  },
  {
   "cell_type": "code",
   "execution_count": null,
   "metadata": {
    "id": "RFjPlcv-9Or0"
   },
   "outputs": [],
   "source": [
    "# I have to make sure laspy and laszip is installed\n",
    "!pip install --force-reinstall laspy[laszip]"
   ]
  },
  {
   "cell_type": "code",
   "execution_count": null,
   "metadata": {
    "id": "fSr04eCm5vo_"
   },
   "outputs": [],
   "source": [
    "import matplotlib.pyplot as plt\n",
    "import numpy as np\n",
    "import laspy\n",
    "import os\n",
    "from mpl_toolkits.mplot3d import Axes3D"
   ]
  },
  {
   "cell_type": "code",
   "execution_count": null,
   "metadata": {
    "id": "4eibBktr5wla"
   },
   "outputs": [],
   "source": [
    "# Mount and connect to the Google Drive\n",
    "from google.colab import drive\n",
    "drive.mount('/content/drive')"
   ]
  },
  {
   "cell_type": "code",
   "execution_count": null,
   "metadata": {
    "id": "p0tdMLwA8KUV"
   },
   "outputs": [],
   "source": [
    "def read_and_visualize_laz(file_path: str) -> None:\n",
    "    \"\"\"\n",
    "    Reads a LiDAR .laz file and visualizes it as a 3D scatter plot.\n",
    "\n",
    "    Parameters\n",
    "    ----------\n",
    "    file_path : str\n",
    "        The path to the .laz file.\n",
    "\n",
    "    Returns\n",
    "    -------\n",
    "    None\n",
    "        Displays a 3D scatter plot of the LiDAR data.\n",
    "\n",
    "    Raises\n",
    "    ------\n",
    "    FileNotFoundError\n",
    "        If the file does not exist.\n",
    "    ValueError\n",
    "        If the file format is incorrect.\n",
    "    Exception\n",
    "        Any other unexpected error.\n",
    "    \"\"\"\n",
    "    try:\n",
    "        # Open the .laz file\n",
    "        with laspy.open(file_path) as las_file:\n",
    "            las = las_file.read()\n",
    "\n",
    "        # Extract X, Y, Z coordinates\n",
    "        x = las.x\n",
    "        y = las.y\n",
    "        z = las.z\n",
    "\n",
    "        # Downsampling for better performance (adjust as needed)\n",
    "        downsample_rate = max(1, len(x) // 100000)  # Show only every n-th point\n",
    "        x, y, z = x[::downsample_rate], y[::downsample_rate], z[::downsample_rate]\n",
    "\n",
    "        # Create a 3D scatter plot\n",
    "        fig = plt.figure(figsize=(10, 7))\n",
    "        ax = fig.add_subplot(111, projection='3d')\n",
    "        scatter = ax.scatter(x, y, z, c=z, cmap='terrain', s=0.5, alpha=0.5)\n",
    "\n",
    "        # Labels and title\n",
    "        ax.set_xlabel(\"X Coordinate\")\n",
    "        ax.set_ylabel(\"Y Coordinate\")\n",
    "        ax.set_zlabel(\"Height (Z)\")\n",
    "        ax.set_title(\"LiDAR point cloud data\")\n",
    "        fig.colorbar(scatter, ax=ax, shrink=0.5, aspect=10, label=\"Height\")\n",
    "\n",
    "        plt.show()\n",
    "\n",
    "    except FileNotFoundError:\n",
    "        raise FileNotFoundError(f\"File not found: {file_path}\")\n",
    "    except ValueError:\n",
    "        raise ValueError(\"Invalid file format. Please provide a valid .laz file.\")\n",
    "    except Exception as e:\n",
    "        raise Exception(f\"An error occurred: {e}\")"
   ]
  },
  {
   "cell_type": "code",
   "execution_count": null,
   "metadata": {
    "colab": {
     "base_uri": "https://localhost:8080/",
     "height": 598
    },
    "executionInfo": {
     "elapsed": 26432,
     "status": "ok",
     "timestamp": 1739192929965,
     "user": {
      "displayName": "Jinhu Wang",
      "userId": "00786180994278990283"
     },
     "user_tz": -60
    },
    "id": "KnMd_knY8Ms7",
    "outputId": "a4e398c8-72ff-47b5-83cd-cfc559cc5192"
   },
   "outputs": [],
   "source": [
    "# Just an example that read and visualize the LiDAR *.laz file.\n",
    "\n",
    "# The directory of *.laz file\n",
    "laz_file_path = \"/content/drive/MyDrive/Colab_Notebooks/AWD/datasets/24HN1_25/1_original/24HN1_25.laz\"\n",
    "\n",
    "# Run the read and visualize.\n",
    "read_and_visualize_laz(laz_file_path)"
   ]
  },
  {
   "cell_type": "code",
   "execution_count": null,
   "metadata": {
    "id": "yDq5ZgcQ8ikc"
   },
   "outputs": [],
   "source": []
  }
 ],
 "metadata": {
  "colab": {
   "provenance": []
  },
  "kernelspec": {
   "display_name": "Python 3 (ipykernel)",
   "language": "python",
   "name": "python3"
  },
  "language_info": {
   "codemirror_mode": {
    "name": "ipython",
    "version": 3
   },
   "file_extension": ".py",
   "mimetype": "text/x-python",
   "name": "python",
   "nbconvert_exporter": "python",
   "pygments_lexer": "ipython3",
   "version": "3.12.7"
  }
 },
 "nbformat": 4,
 "nbformat_minor": 4
}
