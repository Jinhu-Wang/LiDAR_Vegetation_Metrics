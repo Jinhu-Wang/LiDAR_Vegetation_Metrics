{
 "cells": [
  {
   "cell_type": "code",
   "execution_count": null,
   "metadata": {
    "colab": {
     "base_uri": "https://localhost:8080/"
    },
    "executionInfo": {
     "elapsed": 2558,
     "status": "ok",
     "timestamp": 1739195828370,
     "user": {
      "displayName": "Jinhu Wang",
      "userId": "00786180994278990283"
     },
     "user_tz": -60
    },
    "id": "HxidTg0xINlI",
    "outputId": "9ae53a82-53d4-4bb7-9f6c-b60859f356d1"
   },
   "outputs": [],
   "source": [
    "!pip install laspy rasterio"
   ]
  },
  {
   "cell_type": "code",
   "execution_count": null,
   "metadata": {
    "colab": {
     "base_uri": "https://localhost:8080/",
     "height": 654
    },
    "executionInfo": {
     "elapsed": 10171,
     "status": "ok",
     "timestamp": 1739195863149,
     "user": {
      "displayName": "Jinhu Wang",
      "userId": "00786180994278990283"
     },
     "user_tz": -60
    },
    "id": "ii3DUI-gJqTb",
    "outputId": "4f040f65-2923-46b7-bc4b-48c21a043b13"
   },
   "outputs": [],
   "source": [
    "# I just want to make sure it is installed.\n",
    "!pip install --force-reinstall laspy[laszip]"
   ]
  },
  {
   "cell_type": "code",
   "execution_count": null,
   "metadata": {
    "executionInfo": {
     "elapsed": 990,
     "status": "ok",
     "timestamp": 1739195871280,
     "user": {
      "displayName": "Jinhu Wang",
      "userId": "00786180994278990283"
     },
     "user_tz": -60
    },
    "id": "rpX4ksfdIRMA"
   },
   "outputs": [],
   "source": [
    "import laspy\n",
    "import rasterio\n",
    "import numpy as np\n",
    "import os"
   ]
  },
  {
   "cell_type": "code",
   "execution_count": null,
   "metadata": {
    "executionInfo": {
     "elapsed": 56,
     "status": "ok",
     "timestamp": 1739195872494,
     "user": {
      "displayName": "Jinhu Wang",
      "userId": "00786180994278990283"
     },
     "user_tz": -60
    },
    "id": "DIhGIXHCITwE"
   },
   "outputs": [],
   "source": [
    "def normalize_vegetation_by_dtm(laz_file: str, dtm_tif: str, output_laz: str) -> None:\n",
    "    \"\"\"\n",
    "    Normalizes vegetation point heights using a given DTM.\n",
    "\n",
    "    Caution: As comments in Line 39-46 shows, for difference LiDAR datasets, the vegetation\n",
    "             points should be correctly specified.\n",
    "\n",
    "    Parameters\n",
    "    ----------\n",
    "    laz_file : str\n",
    "        Path to the input .laz file (LiDAR point cloud).\n",
    "    dtm_tif : str\n",
    "        Path to the DTM (GeoTIFF format).\n",
    "    output_laz : str\n",
    "        Path to save the normalized .laz file.\n",
    "\n",
    "    Returns\n",
    "    -------\n",
    "    None\n",
    "        Saves a new LiDAR file with normalized heights.\n",
    "    \"\"\"\n",
    "    try:\n",
    "        # Load DTM\n",
    "        with rasterio.open(dtm_tif) as dtm:\n",
    "            dtm_data = dtm.read(1)  # Read elevation values\n",
    "            dtm_transform = dtm.transform  # Get spatial transform\n",
    "            dtm_bounds = dtm.bounds  # Get extent\n",
    "            dtm_res = dtm.res  # Resolution\n",
    "            print(dtm_res)\n",
    "\n",
    "        # Load LiDAR data\n",
    "        with laspy.open(laz_file) as las_file:\n",
    "            las = las_file.read()\n",
    "\n",
    "        # Here, normally in standard LAZ/LAS files, vegetation points were classified as [3, 4, 5].\n",
    "        # However, Dutch AHN point clouds donot have vegetation points classified, they are unclassified as [1]\n",
    "\n",
    "        # Extract vegetation points (classification: 3, 4, 5)\n",
    "        # vegetation_mask = np.isin(las.classification, [3, 4, 5])\n",
    "\n",
    "        # For Dutch AHN case, should be used as below:\n",
    "        vegetation_mask = np.isin(las.classification, [1])\n",
    "\n",
    "        # Convert ScaledArrayView to NumPy arrays\n",
    "        x_veg = np.array(las.x[vegetation_mask])\n",
    "        y_veg = np.array(las.y[vegetation_mask])\n",
    "        z_veg = np.array(las.z[vegetation_mask])\n",
    "\n",
    "        # Convert LiDAR coordinates to raster grid indices\n",
    "        row_indices = ((dtm_bounds.top - y_veg) / dtm_res[1]).astype(int)\n",
    "        col_indices = ((x_veg - dtm_bounds.left) / dtm_res[0]).astype(int)\n",
    "\n",
    "        # Ensure indices are within DTM bounds\n",
    "        valid_mask = (row_indices >= 0) & (row_indices < dtm_data.shape[0]) & \\\n",
    "                     (col_indices >= 0) & (col_indices < dtm_data.shape[1])\n",
    "\n",
    "        # Compute normalized heights\n",
    "        normalized_heights = z_veg[valid_mask] - dtm_data[row_indices[valid_mask], col_indices[valid_mask]]\n",
    "\n",
    "        # Create new LAS file with normalized heights\n",
    "        header = laspy.LasHeader(point_format=las.header.point_format, version=las.header.version)\n",
    "        header.scales = las.header.scales\n",
    "        header.offsets = las.header.offsets\n",
    "\n",
    "        normalized_las = laspy.LasData(header)\n",
    "        normalized_las.points = las.points[vegetation_mask][valid_mask]  # Assign filtered points\n",
    "        normalized_las.z = normalized_heights  # Replace z values with normalized height\n",
    "\n",
    "        # Save output LAS file\n",
    "        with laspy.open(output_laz, mode=\"w\", header=header) as las_writer:\n",
    "            las_writer.write_points(normalized_las.points)\n",
    "\n",
    "        print(f\"Normalized LiDAR file saved: {output_laz}\")\n",
    "\n",
    "    except Exception as e:\n",
    "        raise Exception(f\"Error in normalizing vegetation heights: {e}\")\n"
   ]
  },
  {
   "cell_type": "code",
   "execution_count": null,
   "metadata": {
    "executionInfo": {
     "elapsed": 22,
     "status": "ok",
     "timestamp": 1739195873303,
     "user": {
      "displayName": "Jinhu Wang",
      "userId": "00786180994278990283"
     },
     "user_tz": -60
    },
    "id": "OG1Nq5GIIWRZ"
   },
   "outputs": [],
   "source": [
    "def normalize_by_dtm(laz_file: str, dtm_tif: str, output_laz: str) -> None:\n",
    "    \"\"\"\n",
    "    Normalizes all LiDAR point heights using a given DTM.\n",
    "\n",
    "    Parameters\n",
    "    ----------\n",
    "    laz_file : str\n",
    "        Path to the input .laz file (LiDAR point cloud).\n",
    "    dtm_tif : str\n",
    "        Path to the DTM (GeoTIFF format).\n",
    "    output_laz : str\n",
    "        Path to save the normalized .laz file.\n",
    "\n",
    "    Returns\n",
    "    -------\n",
    "    None\n",
    "        Saves a new LiDAR file with normalized heights.\n",
    "    \"\"\"\n",
    "    try:\n",
    "        # Load DTM\n",
    "        with rasterio.open(dtm_tif) as dtm:\n",
    "            dtm_data = dtm.read(1)  # Read elevation values\n",
    "            dtm_transform = dtm.transform  # Get spatial transform\n",
    "            dtm_bounds = dtm.bounds  # Get extent\n",
    "            dtm_res = dtm.res  # Resolution\n",
    "            print(f\"DTM resolution: {dtm_res}\")\n",
    "\n",
    "        # Load LiDAR data\n",
    "        with laspy.open(laz_file) as las_file:\n",
    "            las = las_file.read()\n",
    "\n",
    "        # Extract ALL LiDAR points\n",
    "        x = np.array(las.x)\n",
    "        y = np.array(las.y)\n",
    "        z = np.array(las.z)\n",
    "\n",
    "        # Convert LiDAR coordinates to raster grid indices\n",
    "        row_indices = ((dtm_bounds.top - y) / dtm_res[1]).astype(int)\n",
    "        col_indices = ((x - dtm_bounds.left) / dtm_res[0]).astype(int)\n",
    "\n",
    "        # Ensure indices are within DTM bounds\n",
    "        valid_mask = (row_indices >= 0) & (row_indices < dtm_data.shape[0]) & \\\n",
    "                     (col_indices >= 0) & (col_indices < dtm_data.shape[1])\n",
    "\n",
    "        # Compute normalized heights for valid points\n",
    "        normalized_heights = np.full_like(z, np.nan)  # Initialize with NaNs\n",
    "        normalized_heights[valid_mask] = z[valid_mask] - dtm_data[row_indices[valid_mask], col_indices[valid_mask]]\n",
    "\n",
    "        # Create new LAS file with normalized heights\n",
    "        header = laspy.LasHeader(point_format=las.header.point_format, version=las.header.version)\n",
    "        header.scales = las.header.scales\n",
    "        header.offsets = las.header.offsets\n",
    "\n",
    "        normalized_las = laspy.LasData(header)\n",
    "        normalized_las.points = las.points  # Copy all point attributes\n",
    "        normalized_las.z = normalized_heights  # Replace Z values with normalized heights\n",
    "\n",
    "        # Save output LAS file\n",
    "        with laspy.open(output_laz, mode=\"w\", header=header) as las_writer:\n",
    "            las_writer.write_points(normalized_las.points)\n",
    "\n",
    "        print(f\"Normalized LiDAR file saved: {output_laz}\")\n",
    "\n",
    "    except Exception as e:\n",
    "        raise Exception(f\"Error in normalizing LiDAR heights: {e}\")"
   ]
  },
  {
   "cell_type": "code",
   "execution_count": null,
   "metadata": {
    "executionInfo": {
     "elapsed": 36,
     "status": "ok",
     "timestamp": 1739195873580,
     "user": {
      "displayName": "Jinhu Wang",
      "userId": "00786180994278990283"
     },
     "user_tz": -60
    },
    "id": "NYshF5UUIY6Q"
   },
   "outputs": [],
   "source": [
    "def normalize_by_lowest_point(laz_file: str, output_laz: str, resolution: float = 10.0) -> None:\n",
    "    \"\"\"\n",
    "    Normalizes LiDAR point heights using the lowest point in each grid cell.\n",
    "\n",
    "    Parameters\n",
    "    ----------\n",
    "    laz_file : str\n",
    "        Path to the input .laz file (LiDAR point cloud).\n",
    "    output_laz : str\n",
    "        Path to save the normalized .laz file.\n",
    "    resolution : float, optional\n",
    "        Grid resolution for finding the lowest point (default is 10m).\n",
    "\n",
    "    Returns\n",
    "    -------\n",
    "    None\n",
    "        Saves a new LiDAR file with normalized heights.\n",
    "    \"\"\"\n",
    "    try:\n",
    "        # Load LiDAR data\n",
    "        with laspy.open(laz_file) as las_file:\n",
    "            las = las_file.read()\n",
    "\n",
    "        # Extract all points (not filtering vegetation)\n",
    "        x = np.array(las.x)\n",
    "        y = np.array(las.y)\n",
    "        z = np.array(las.z)\n",
    "\n",
    "        # Define grid structure\n",
    "        min_x, max_x = np.min(x), np.max(x)\n",
    "        min_y, max_y = np.min(y), np.max(y)\n",
    "\n",
    "        # Compute grid indices\n",
    "        x_indices = ((x - min_x) / resolution).astype(int)\n",
    "        y_indices = ((y - min_y) / resolution).astype(int)\n",
    "\n",
    "        # Create a dictionary to store the lowest point in each grid cell\n",
    "        lowest_points = {}\n",
    "\n",
    "        # Find the lowest elevation per grid cell\n",
    "        for i in range(len(x)):\n",
    "            cell = (x_indices[i], y_indices[i])\n",
    "            if cell not in lowest_points or z[i] < lowest_points[cell]:\n",
    "                lowest_points[cell] = z[i]\n",
    "\n",
    "        # Convert dictionary to a NumPy array for fast lookup\n",
    "        lowest_grid = np.full((np.max(y_indices) + 1, np.max(x_indices) + 1), np.nan)\n",
    "        for (x_idx, y_idx), min_z in lowest_points.items():\n",
    "            lowest_grid[y_idx, x_idx] = min_z\n",
    "\n",
    "        # Normalize heights\n",
    "        normalized_heights = z - np.array([lowest_grid[y_idx, x_idx] for x_idx, y_idx in zip(x_indices, y_indices)])\n",
    "\n",
    "        # Create new LAS file with normalized heights\n",
    "        header = laspy.LasHeader(point_format=las.header.point_format, version=las.header.version)\n",
    "        header.scales = las.header.scales\n",
    "        header.offsets = las.header.offsets\n",
    "\n",
    "        normalized_las = laspy.LasData(header)\n",
    "        normalized_las.points = las.points  # Copy all point attributes\n",
    "        normalized_las.z = normalized_heights  # Replace Z values with normalized heights\n",
    "\n",
    "        # Save output LAS file\n",
    "        with laspy.open(output_laz, mode=\"w\", header=header) as las_writer:\n",
    "            las_writer.write_points(normalized_las.points)\n",
    "\n",
    "        print(f\"Normalized LiDAR file saved: {output_laz}\")\n",
    "\n",
    "    except Exception as e:\n",
    "        raise Exception(f\"Error in normalizing heights: {e}\")\n"
   ]
  },
  {
   "cell_type": "code",
   "execution_count": null,
   "metadata": {
    "colab": {
     "base_uri": "https://localhost:8080/"
    },
    "executionInfo": {
     "elapsed": 847,
     "status": "ok",
     "timestamp": 1739195874892,
     "user": {
      "displayName": "Jinhu Wang",
      "userId": "00786180994278990283"
     },
     "user_tz": -60
    },
    "id": "RSu1qUGJI5qc",
    "outputId": "4c9411f0-be52-4cea-d44e-642e053ca577"
   },
   "outputs": [],
   "source": [
    "# Mount and connect to the Google Drive\n",
    "from google.colab import drive\n",
    "drive.mount('/content/drive')"
   ]
  },
  {
   "cell_type": "code",
   "execution_count": null,
   "metadata": {
    "colab": {
     "background_save": true
    },
    "id": "joFjmhqXIhzD"
   },
   "outputs": [],
   "source": [
    "# An example of Usage - Normalize all points using the lowest point in grid cells of a given resolution.\n",
    "\n",
    "input_laz = \"/content/drive/MyDrive/Colab_Notebooks/AWD/datasets/24HN1_25/1_original/24HN1_25.laz\"\n",
    "output_laz = \"/content/drive/MyDrive/Colab_Notebooks/AWD/datasets/24HN1_25/1_original/24HN1_25_normalized.laz\"\n",
    "resolution = 1.0\n",
    "\n",
    "# Normalize all points using the lowest point in a grid cell of given resolution.\n",
    "normalize_by_lowest_point(input_laz, output_laz, resolution)"
   ]
  },
  {
   "cell_type": "code",
   "execution_count": null,
   "metadata": {
    "id": "1ej-pXpXJBqy"
   },
   "outputs": [],
   "source": [
    "# Example of Usage - Normalize all points using a DTM file\n",
    "\n",
    "# Those directories have to be modified accordingly.\n",
    "input_laz = \"../../Datasets/24HN1_25.laz\"  # Input LiDAR file\n",
    "dtm_tif = \"../../Datasets/24HN1_25_1m_IDW.tif\"  # Input DTM file (GeoTIFF)\n",
    "output_laz = \"../../Datasets/normalized_24HN1_25_1m_IDW_all.laz\"  # Output file\n",
    "\n",
    "# Run normalization for all LiDAR points w.r.t. DTM\n",
    "normalize_by_dtm(input_laz, dtm_tif, output_laz)"
   ]
  },
  {
   "cell_type": "code",
   "execution_count": null,
   "metadata": {
    "id": "HjrWtZz0JCn-"
   },
   "outputs": [],
   "source": [
    "# Example of Usage - Normalize only vegetation points using the generated DTM of a given resolution.\n",
    "\n",
    "# Those directories have to be modified accordingly.\n",
    "laz_file = \"../../Datasets/24HN1_25.laz\"  # Input LiDAR file\n",
    "dtm_tif = \"../../Datasets/24HN1_25_1m_IDW.tif\"  # Input DTM file (GeoTIFF)\n",
    "output_laz = \"../../Datasets/normalized_24HN1_25_1m_IDW.laz\"  # Output file\n",
    "\n",
    "# Normalize vegetation points only\n",
    "normalize_vegetation_by_dtm(laz_file, dtm_tif, output_laz)"
   ]
  }
 ],
 "metadata": {
  "colab": {
   "authorship_tag": "ABX9TyMIWvY62a3m9ahu6P9viRqU",
   "name": "",
   "version": ""
  },
  "kernelspec": {
   "display_name": "Python 3 (ipykernel)",
   "language": "python",
   "name": "python3"
  },
  "language_info": {
   "codemirror_mode": {
    "name": "ipython",
    "version": 3
   },
   "file_extension": ".py",
   "mimetype": "text/x-python",
   "name": "python",
   "nbconvert_exporter": "python",
   "pygments_lexer": "ipython3",
   "version": "3.12.7"
  }
 },
 "nbformat": 4,
 "nbformat_minor": 4
}
