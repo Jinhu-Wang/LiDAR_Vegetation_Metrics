{
 "cells": [
  {
   "cell_type": "code",
   "execution_count": null,
   "metadata": {
    "id": "jz_qOn-nvd8f"
   },
   "outputs": [],
   "source": [
    "# Install the 3rd party packages\n",
    "!pip install pylas  numpy tqdm"
   ]
  },
  {
   "cell_type": "code",
   "execution_count": null,
   "metadata": {
    "id": "Tt7SfDA00VHe"
   },
   "outputs": [],
   "source": [
    "# Install the 3rd party packages - for reading *.LAZ files (sometime gives error using laspy)\n",
    "!pip install laspy lazrs pdal"
   ]
  },
  {
   "cell_type": "code",
   "execution_count": null,
   "metadata": {
    "id": "RktK7ZvFxuIL"
   },
   "outputs": [],
   "source": [
    "# Mount and connect to the Google Drive\n",
    "from google.colab import drive\n",
    "drive.mount('/content/drive')"
   ]
  },
  {
   "cell_type": "code",
   "execution_count": null,
   "metadata": {
    "executionInfo": {
     "elapsed": 432,
     "status": "ok",
     "timestamp": 1739193422653,
     "user": {
      "displayName": "Jinhu Wang",
      "userId": "00786180994278990283"
     },
     "user_tz": -60
    },
    "id": "FOqb3Wcjy7vE"
   },
   "outputs": [],
   "source": [
    "# Define the main function\n",
    "import laspy\n",
    "import numpy as np\n",
    "import os\n",
    "from tqdm import tqdm\n",
    "\n",
    "# Function to perform re-tiling of a LAS file\n",
    "def tile_lidar_las(las_file, output_dir, tile_size=100):\n",
    "    \"\"\"\n",
    "    Splits a large LAS file into smaller 100m x 100m tiles.\n",
    "\n",
    "    Parameters:\n",
    "        las_file (str): Path to the large input LAS file.\n",
    "        output_dir (str): Directory to save tiled LAS files.\n",
    "        tile_size (int): The size of each tile (default: 100m x 100m).\n",
    "    \"\"\"\n",
    "    # Load the LAS file\n",
    "    print(f\"Reading {las_file}...\")\n",
    "    las = laspy.read(las_file)\n",
    "\n",
    "    # Extract point cloud data\n",
    "    x, y, z = las.x, las.y, las.z\n",
    "    min_x, max_x = x.min(), x.max()\n",
    "    min_y, max_y = y.min(), y.max()\n",
    "\n",
    "    # Create output directory if it does not exist\n",
    "    os.makedirs(output_dir, exist_ok=True)\n",
    "\n",
    "    # Determine number of tiles\n",
    "    x_steps = np.arange(min_x, max_x, tile_size)\n",
    "    y_steps = np.arange(min_y, max_y, tile_size)\n",
    "\n",
    "    print(f\"Generating {len(x_steps) * len(y_steps)} tiles...\")\n",
    "\n",
    "    # Iterate through tiles and extract points\n",
    "    for i, x_min in tqdm(enumerate(x_steps), total=len(x_steps)):\n",
    "        for j, y_min in enumerate(y_steps):\n",
    "            x_max = x_min + tile_size\n",
    "            y_max = y_min + tile_size\n",
    "\n",
    "            # Filter points within the tile boundaries\n",
    "            mask = (x >= x_min) & (x < x_max) & (y >= y_min) & (y < y_max)\n",
    "            if np.sum(mask) == 0:\n",
    "                continue  # Skip empty tiles\n",
    "\n",
    "            # Create a new LAS object with selected points\n",
    "            header = las.header  # Copy original header\n",
    "            tile = laspy.create(point_format=las.point_format, file_version=las.header.version)\n",
    "            tile.header = header\n",
    "            tile.points = las.points[mask]\n",
    "\n",
    "            # Save the tile\n",
    "            tile_filename = os.path.join(output_dir, f\"tile_{i}_{j}.las\")\n",
    "            tile.write(tile_filename)\n",
    "\n",
    "    print(f\"Tiles saved in {output_dir}.\")"
   ]
  },
  {
   "cell_type": "code",
   "execution_count": null,
   "metadata": {
    "id": "b30NLz2l0KQi"
   },
   "outputs": [],
   "source": [
    "# Set the arguments\n",
    "#large_las_file = \"/content/drive/MyDrive/Artis_AHN3.las\"  # Change this to your file path\n",
    "large_laz_file = \"/content/drive/MyDrive/Colab_Notebooks/AWD/datasets/24HN1_25/1_original/24HN1_25.laz\"\n",
    "#output_folder = \"/content/drive/MyDrive/Retiled\"  # Change this to your desired output folder\n",
    "output_folder = \"/content/drive/MyDrive/Colab_Notebooks/AWD/datasets/24HN1_25/1_original/retiled\"\n",
    "tile_size_meters = 100  # Tile size: 100m × 100m\n",
    "\n",
    "# Run the tiling function\n",
    "tile_lidar_las(large_laz_file, output_folder, tile_size_meters)"
   ]
  },
  {
   "cell_type": "code",
   "execution_count": null,
   "metadata": {
    "id": "n7TlSdehAZqM"
   },
   "outputs": [],
   "source": []
  }
 ],
 "metadata": {
  "colab": {
   "provenance": []
  },
  "kernelspec": {
   "display_name": "Python 3 (ipykernel)",
   "language": "python",
   "name": "python3"
  },
  "language_info": {
   "codemirror_mode": {
    "name": "ipython",
    "version": 3
   },
   "file_extension": ".py",
   "mimetype": "text/x-python",
   "name": "python",
   "nbconvert_exporter": "python",
   "pygments_lexer": "ipython3",
   "version": "3.12.7"
  }
 },
 "nbformat": 4,
 "nbformat_minor": 4
}
