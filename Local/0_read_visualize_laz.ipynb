{
 "cells": [
  {
   "cell_type": "code",
   "execution_count": null,
   "id": "35629895-2278-454c-8e8d-a8a508ba4249",
   "metadata": {},
   "outputs": [],
   "source": [
    "!pip install raster laspy[laszip] lazrs"
   ]
  },
  {
   "cell_type": "code",
   "execution_count": null,
   "id": "e0c1480f-1be9-40ec-8729-e28bba782a19",
   "metadata": {},
   "outputs": [],
   "source": [
    "import matplotlib.pyplot as plt\n",
    "import numpy as np\n",
    "import laspy\n",
    "import os\n",
    "from mpl_toolkits.mplot3d import Axes3D"
   ]
  },
  {
   "cell_type": "code",
   "execution_count": null,
   "id": "3d433ada-2282-4288-93b9-b594702f4593",
   "metadata": {},
   "outputs": [],
   "source": [
    "def read_and_visualize_laz(file_path: str) -> None:\n",
    "    \"\"\"\n",
    "    Reads a LiDAR .laz file and visualizes it as a 3D scatter plot.\n",
    "\n",
    "    Parameters\n",
    "    ----------\n",
    "    file_path : str\n",
    "        The path to the .laz file.\n",
    "\n",
    "    Returns\n",
    "    -------\n",
    "    None\n",
    "        Displays a 3D scatter plot of the LiDAR data.\n",
    "\n",
    "    Raises\n",
    "    ------\n",
    "    FileNotFoundError\n",
    "        If the file does not exist.\n",
    "    ValueError\n",
    "        If the file format is incorrect.\n",
    "    Exception\n",
    "        Any other unexpected error.\n",
    "    \"\"\"\n",
    "    try:\n",
    "        # Open the .laz file\n",
    "        with laspy.open(file_path) as las_file:\n",
    "            las = las_file.read()\n",
    "\n",
    "        # Extract X, Y, Z coordinates\n",
    "        x = las.x\n",
    "        y = las.y\n",
    "        z = las.z\n",
    "\n",
    "        # Downsampling for better performance (adjust as needed)\n",
    "        downsample_rate = max(1, len(x) // 100000)  # Show only every n-th point\n",
    "        x, y, z = x[::downsample_rate], y[::downsample_rate], z[::downsample_rate]\n",
    "\n",
    "        # Create a 3D scatter plot\n",
    "        fig = plt.figure(figsize=(10, 7))\n",
    "        ax = fig.add_subplot(111, projection='3d')\n",
    "        scatter = ax.scatter(x, y, z, c=z, cmap='terrain', s=0.5, alpha=0.5)\n",
    "\n",
    "        # Labels and title\n",
    "        ax.set_xlabel(\"X Coordinate\")\n",
    "        ax.set_ylabel(\"Y Coordinate\")\n",
    "        ax.set_zlabel(\"Height (Z)\")\n",
    "        ax.set_title(\"LiDAR point cloud data\")\n",
    "        fig.colorbar(scatter, ax=ax, shrink=0.5, aspect=10, label=\"Height\")\n",
    "\n",
    "        plt.show()\n",
    "    \n",
    "    except FileNotFoundError:\n",
    "        raise FileNotFoundError(f\"File not found: {file_path}\")\n",
    "    except ValueError:\n",
    "        raise ValueError(\"Invalid file format. Please provide a valid .laz file.\")\n",
    "    except Exception as e:\n",
    "        raise Exception(f\"An error occurred: {e}\")"
   ]
  },
  {
   "cell_type": "code",
   "execution_count": null,
   "id": "e1e2efa7-9426-45c4-b512-01d8d8f71a05",
   "metadata": {},
   "outputs": [],
   "source": [
    "# Just an example that read and visualize the LiDAR *.laz file.\n",
    "\n",
    "# The directory of *.laz file\n",
    "\n",
    "laz_file_path = \"../../Datasets/24HN1_25.laz\"\n",
    "\n",
    "# Run the read and visualize.\n",
    "read_and_visualize_laz(laz_file_path)"
   ]
  },
  {
   "cell_type": "code",
   "execution_count": null,
   "id": "62cf8eb4-f3e2-4486-91ad-b013ff869c50",
   "metadata": {},
   "outputs": [],
   "source": []
  }
 ],
 "metadata": {
  "kernelspec": {
   "display_name": "Python 3 (ipykernel)",
   "language": "python",
   "name": "python3"
  },
  "language_info": {
   "codemirror_mode": {
    "name": "ipython",
    "version": 3
   },
   "file_extension": ".py",
   "mimetype": "text/x-python",
   "name": "python",
   "nbconvert_exporter": "python",
   "pygments_lexer": "ipython3",
   "version": "3.12.7"
  }
 },
 "nbformat": 4,
 "nbformat_minor": 5
}
