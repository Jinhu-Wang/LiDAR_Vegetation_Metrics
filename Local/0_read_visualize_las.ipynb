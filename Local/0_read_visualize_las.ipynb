{
 "cells": [
  {
   "cell_type": "code",
   "execution_count": null,
   "metadata": {
    "id": "4-S9c_2JoEXy"
   },
   "outputs": [],
   "source": [
    "!pip install laspy numpy pandas"
   ]
  },
  {
   "cell_type": "code",
   "execution_count": null,
   "metadata": {
    "executionInfo": {
     "elapsed": 321,
     "status": "ok",
     "timestamp": 1738744199610,
     "user": {
      "displayName": "Jinhu Wang",
      "userId": "00786180994278990283"
     },
     "user_tz": -60
    },
    "id": "iSxoSM59m5i8"
   },
   "outputs": [],
   "source": [
    "import matplotlib.pyplot as plt\n",
    "import numpy as np\n",
    "import os"
   ]
  },
  {
   "cell_type": "code",
   "execution_count": null,
   "metadata": {
    "colab": {
     "base_uri": "https://localhost:8080/"
    },
    "executionInfo": {
     "elapsed": 21826,
     "status": "ok",
     "timestamp": 1738744226368,
     "user": {
      "displayName": "Jinhu Wang",
      "userId": "00786180994278990283"
     },
     "user_tz": -60
    },
    "id": "RktK7ZvFxuIL",
    "outputId": "01abeae0-c194-4541-ccb6-25281df10b9e"
   },
   "outputs": [],
   "source": [
    "# Mount and connect to the Google Drive\n",
    "from google.colab import drive\n",
    "drive.mount('/content/drive')"
   ]
  },
  {
   "cell_type": "code",
   "execution_count": null,
   "metadata": {
    "executionInfo": {
     "elapsed": 5647,
     "status": "ok",
     "timestamp": 1738744243558,
     "user": {
      "displayName": "Jinhu Wang",
      "userId": "00786180994278990283"
     },
     "user_tz": -60
    },
    "id": "ajYTP2kvlsKZ"
   },
   "outputs": [],
   "source": [
    "\n",
    "import laspy\n",
    "import numpy as np\n",
    "import pandas as pd\n",
    "\n",
    "# If uploaded manually, the file will be in /content/\n",
    "#las_file_path = \"/content/drive/MyDrive/Artis_AHN3.las\"\n",
    "las_file_path = \"../../Datasets/Plot_1.las\"\n",
    "\n",
    "# Open the LAS file\n",
    "las = laspy.read(las_file_path)\n",
    "\n",
    "# Extract point cloud data\n",
    "points = np.vstack((las.x, las.y, las.z)).T  # XYZ coordinates\n",
    "intensity = las.intensity  # Intensity values\n",
    "classification = las.classification  # Classification codes\n",
    "\n",
    "# Convert to Pandas DataFrame for analysis\n",
    "df = pd.DataFrame({\n",
    "    'X': points[:, 0],\n",
    "    'Y': points[:, 1],\n",
    "    'Z': points[:, 2],\n",
    "    'Intensity': intensity,\n",
    "    'Classification': classification,\n",
    "    'NumberOfReturns': las.number_of_returns,\n",
    "    'ReturnNumber': las.return_number,\n",
    "    'GPS_time': las.gps_time,\n",
    "    'Scan_angle_rank': las.scan_angle_rank,\n",
    "    'UserData': las.user_data\n",
    "})\n"
   ]
  },
  {
   "cell_type": "code",
   "execution_count": null,
   "metadata": {
    "colab": {
     "base_uri": "https://localhost:8080/",
     "height": 829
    },
    "executionInfo": {
     "elapsed": 5026,
     "status": "ok",
     "timestamp": 1738744285943,
     "user": {
      "displayName": "Jinhu Wang",
      "userId": "00786180994278990283"
     },
     "user_tz": -60
    },
    "id": "mMfYKjvht5QI",
    "outputId": "d035f683-4548-4e49-898c-9ce1a9877fa6"
   },
   "outputs": [],
   "source": [
    "# Example of Usage\n",
    "\n",
    "fig = plt.figure(figsize=(10, 10))\n",
    "ax = fig.add_subplot(111, projection='3d')\n",
    "ax.scatter(df['X'][::50], df['Y'][::50], df['Z'][::50], c=df['Z'][::50], cmap='jet')\n",
    "ax.set_xlabel('X')\n",
    "ax.set_ylabel('Y')\n",
    "ax.set_zlabel('Z')\n",
    "plt.title('3D Point Cloud Visualization')\n",
    "plt.show()\n"
   ]
  }
 ],
 "metadata": {
  "colab": {
   "authorship_tag": "ABX9TyNsDKsfS4vbdTLhV1GGAc74",
   "provenance": []
  },
  "kernelspec": {
   "display_name": "Python 3 (ipykernel)",
   "language": "python",
   "name": "python3"
  },
  "language_info": {
   "codemirror_mode": {
    "name": "ipython",
    "version": 3
   },
   "file_extension": ".py",
   "mimetype": "text/x-python",
   "name": "python",
   "nbconvert_exporter": "python",
   "pygments_lexer": "ipython3",
   "version": "3.12.7"
  }
 },
 "nbformat": 4,
 "nbformat_minor": 4
}
